{
  "nbformat": 4,
  "nbformat_minor": 0,
  "metadata": {
    "colab": {
      "provenance": [],
      "authorship_tag": "ABX9TyMKuGHpus1WgMgcKiJQZkRB",
      "include_colab_link": true
    },
    "kernelspec": {
      "name": "python3",
      "display_name": "Python 3"
    },
    "language_info": {
      "name": "python"
    }
  },
  "cells": [
    {
      "cell_type": "markdown",
      "metadata": {
        "id": "view-in-github",
        "colab_type": "text"
      },
      "source": [
        "<a href=\"https://colab.research.google.com/github/simonkaley/discussion2/blob/main/discussion2.ipynb\" target=\"_parent\"><img src=\"https://colab.research.google.com/assets/colab-badge.svg\" alt=\"Open In Colab\"/></a>"
      ]
    },
    {
      "cell_type": "code",
      "execution_count": 17,
      "metadata": {
        "colab": {
          "base_uri": "https://localhost:8080/"
        },
        "id": "gadIEELgpN2H",
        "outputId": "be38a873-958d-4c60-84c2-e071f65ccb27"
      },
      "outputs": [
        {
          "output_type": "stream",
          "name": "stdout",
          "text": [
            "Cross-Validation Scores: [0.91666667 1.         0.91666667 0.83333333 1.        ]\n",
            "Mean CV Score: 0.9333333333333332\n",
            "Test Set Accuracy: 1.0\n"
          ]
        }
      ],
      "source": [
        "from sklearn.model_selection import cross_val_score, KFold\n",
        "from sklearn.model_selection import train_test_split\n",
        "\n",
        "from sklearn.datasets import load_iris\n",
        "from sklearn.metrics import accuracy_score\n",
        "\n",
        "#load example iris dataset\n",
        "data = load_iris()\n",
        "\n",
        "#features (X) and labels (y)\n",
        "X = data.data\n",
        "y = data.target\n",
        "\n",
        "X_train, X_test, y_train, y_test = train_test_split(X, y, test_size=0.2, random_state=42)\n",
        "\n",
        "from sklearn.ensemble import RandomForestClassifier\n",
        "model = RandomForestClassifier()\n",
        "\n",
        "#5-fold cross-validation\n",
        "kf = KFold(n_splits=5, shuffle=True, random_state=42)\n",
        "\n",
        "scores = cross_val_score(model, X_train, y_train, cv=kf, scoring='accuracy')\n",
        "\n",
        "\n",
        "print(\"Cross-Validation Scores:\", scores)\n",
        "print(\"Mean CV Score:\", scores.mean())\n",
        "\n",
        "#train the final model on the entire training set\n",
        "final_model = RandomForestClassifier(n_estimators=100, random_state=42)\n",
        "final_model.fit(X_train, y_train)\n",
        "\n",
        "\n",
        "#evaluate the final model on the test set\n",
        "y_pred_test = final_model.predict(X_test)\n",
        "test_score = accuracy_score(y_test, y_pred_test)\n",
        "print(\"Test Set Accuracy:\", test_score)\n",
        "\n"
      ]
    },
    {
      "cell_type": "code",
      "source": [],
      "metadata": {
        "id": "mqMWLb3ZqKuG"
      },
      "execution_count": 1,
      "outputs": []
    }
  ]
}