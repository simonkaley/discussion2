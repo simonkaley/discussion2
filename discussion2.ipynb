{
  "nbformat": 4,
  "nbformat_minor": 0,
  "metadata": {
    "colab": {
      "provenance": [],
      "authorship_tag": "ABX9TyMxdXxjH9YSm6zsvX26qqna",
      "include_colab_link": true
    },
    "kernelspec": {
      "name": "python3",
      "display_name": "Python 3"
    },
    "language_info": {
      "name": "python"
    }
  },
  "cells": [
    {
      "cell_type": "markdown",
      "metadata": {
        "id": "view-in-github",
        "colab_type": "text"
      },
      "source": [
        "<a href=\"https://colab.research.google.com/github/simonkaley/discussion2/blob/main/discussion2.ipynb\" target=\"_parent\"><img src=\"https://colab.research.google.com/assets/colab-badge.svg\" alt=\"Open In Colab\"/></a>"
      ]
    },
    {
      "cell_type": "code",
      "execution_count": 9,
      "metadata": {
        "colab": {
          "base_uri": "https://localhost:8080/"
        },
        "id": "gadIEELgpN2H",
        "outputId": "ec3e3a1e-781e-42ef-e090-ea0d5c42a78b"
      },
      "outputs": [
        {
          "output_type": "stream",
          "name": "stdout",
          "text": [
            "Drive already mounted at /content/drive; to attempt to forcibly remount, call drive.mount(\"/content/drive\", force_remount=True).\n",
            "Cross-Validation Scores: [-0.0042986847720145605, 0.39433445756355723, -0.19390239239247942, -0.024020267880739965, 0.10391305715359167]\n",
            "Mean CV Score: 0.055205233934382994\n"
          ]
        }
      ],
      "source": [
        "from sklearn.model_selection import train_test_split\n",
        "import numpy as np\n",
        "import pandas as pd\n",
        "import ipywidgets as widgets\n",
        "import matplotlib.pyplot as plt\n",
        "import sklearn.linear_model\n",
        "\n",
        "\n",
        "#load the data\n",
        "from google.colab import drive,files\n",
        "drive.mount('/content/drive')\n",
        "#uploaded = files.upload()\n",
        "\n",
        "\n",
        "hls_all_raw = pd.read_csv(\"/content/HSL_ALL.csv\")\n",
        "\n",
        "hls_slice = pd.DataFrame(hls_all_raw, columns =[\"Country\",\"Indicator\",\"Type of indicator\",\"Time\",\"Value\"])\n",
        "hls_ls = hls_slice.loc[hls_all_raw[\"Indicator\"] == \"Social support\"]\n",
        "\n",
        "\n",
        "hls_train = hls_ls.loc[hls_ls[\"Time\"] == 2018]\n",
        "hls_train = hls_train.loc[hls_ls[\"Type of indicator\"] == \"Average\"]\n",
        "\n",
        "\n",
        "weo_raw = pd.read_csv(\"/content/WEOOct2023all.xls\", sep='\\t', encoding='latin1')\n",
        "\n",
        "weo_selected_measurement = weo_raw.loc[weo_raw['WEO Subject Code'].str.contains(\"PCPIPCH\", na=False)]\n",
        "weo_selected_measurement_2018 = pd.DataFrame(weo_selected_measurement, columns=['Country', '2018'])\n",
        "\n",
        "merged_train_data = pd.merge(hls_train, weo_selected_measurement_2018, on=\"Country\")\n",
        "merged_train_data = merged_train_data.rename(columns={\"Value\": \"Happiness Measurement\", \"2018\": \"Income Measurement\"})\n",
        "merged_train_data = pd.DataFrame(merged_train_data, columns=['Country','Happiness Measurement', 'Income Measurement'])\n",
        "\n",
        "\n",
        "import matplotlib.pyplot as plt\n",
        "import sklearn.linear_model\n",
        "\n",
        "\n",
        "#define features (X) and target variable (Y)\n",
        "X = np.c_[merged_train_data[\"Income Measurement\"]]\n",
        "Y = np.c_[merged_train_data[\"Happiness Measurement\"]]\n",
        "\n",
        "#specify the number of splits for cross-validation\n",
        "num_splits = 5\n",
        "\n",
        "#initialize a linear regression model\n",
        "model = sklearn.linear_model.LinearRegression()\n",
        "\n",
        "#lists to store cross-validation scores\n",
        "cv_scores = []\n",
        "\n",
        "#perform cross-validation\n",
        "for _ in range(num_splits):\n",
        "    # split the data into training and testing sets\n",
        "    X_train, X_test, Y_train, Y_test = train_test_split(X, Y, test_size=0.2, random_state=None)  # You can set a specific random state for reproducibility\n",
        "\n",
        "    #fit the model on the training data\n",
        "    model.fit(X_train, Y_train)\n",
        "\n",
        "    #evaluate the model on the test set\n",
        "    test_score = model.score(X_test, Y_test)\n",
        "\n",
        "    #append the score to the list\n",
        "    cv_scores.append(test_score)\n",
        "\n",
        "# Display cross-validation scores\n",
        "print(\"Cross-Validation Scores:\", cv_scores)\n",
        "print(\"Mean CV Score:\", np.mean(cv_scores))\n",
        "\n",
        "\n"
      ]
    },
    {
      "cell_type": "code",
      "source": [],
      "metadata": {
        "id": "mqMWLb3ZqKuG"
      },
      "execution_count": null,
      "outputs": []
    }
  ]
}