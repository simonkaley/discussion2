{
  "nbformat": 4,
  "nbformat_minor": 0,
  "metadata": {
    "colab": {
      "provenance": [],
      "authorship_tag": "ABX9TyOeIoZlky4HiAevgPeuVZm7",
      "include_colab_link": true
    },
    "kernelspec": {
      "name": "python3",
      "display_name": "Python 3"
    },
    "language_info": {
      "name": "python"
    }
  },
  "cells": [
    {
      "cell_type": "markdown",
      "metadata": {
        "id": "view-in-github",
        "colab_type": "text"
      },
      "source": [
        "<a href=\"https://colab.research.google.com/github/simonkaley/discussion2/blob/main/discussion2.ipynb\" target=\"_parent\"><img src=\"https://colab.research.google.com/assets/colab-badge.svg\" alt=\"Open In Colab\"/></a>"
      ]
    },
    {
      "cell_type": "code",
      "execution_count": 20,
      "metadata": {
        "colab": {
          "base_uri": "https://localhost:8080/"
        },
        "id": "gadIEELgpN2H",
        "outputId": "9c8b1a97-3165-403b-ca47-402205ad06c3"
      },
      "outputs": [
        {
          "output_type": "stream",
          "name": "stdout",
          "text": [
            "Drive already mounted at /content/drive; to attempt to forcibly remount, call drive.mount(\"/content/drive\", force_remount=True).\n",
            "Cross-Validation MSE Scores: [0.2664219417839609, 0.41653772161496105, 0.15201545059243948, 0.4145468634716363, 0.36668542687460026]\n",
            "Mean MSE Score: 0.3232414808675196\n"
          ]
        }
      ],
      "source": [
        "from sklearn.model_selection import train_test_split\n",
        "from sklearn.metrics import mean_squared_error\n",
        "import numpy as np\n",
        "import pandas as pd\n",
        "import ipywidgets as widgets\n",
        "import matplotlib.pyplot as plt\n",
        "import sklearn.linear_model\n",
        "\n",
        "\n",
        "#load the data\n",
        "from google.colab import drive,files\n",
        "drive.mount('/content/drive')\n",
        "#uploaded = files.upload()\n",
        "\n",
        "\n",
        "hls_all_raw = pd.read_csv(\"/content/HSL_ALL.csv\")\n",
        "\n",
        "hls_slice = pd.DataFrame(hls_all_raw, columns =[\"Country\",\"Indicator\",\"Type of indicator\",\"Time\",\"Value\"])\n",
        "hls_ls = hls_slice.loc[hls_all_raw[\"Indicator\"] == \"Life satisfaction\"]\n",
        "\n",
        "\n",
        "hls_train = hls_ls.loc[hls_ls[\"Time\"] == 2018]\n",
        "hls_train = hls_train.loc[hls_ls[\"Type of indicator\"] == \"Average\"]\n",
        "\n",
        "\n",
        "weo_raw = pd.read_csv(\"/content/WEOOct2023all.xls\", sep='\\t', encoding='latin1')\n",
        "\n",
        "weo_selected_measurement = weo_raw.loc[weo_raw['WEO Subject Code'].str.contains(\"PCPIPCH\", na=False)]\n",
        "weo_selected_measurement_2018 = pd.DataFrame(weo_selected_measurement, columns=['Country', '2018'])\n",
        "\n",
        "merged_train_data = pd.merge(hls_train, weo_selected_measurement_2018, on=\"Country\")\n",
        "merged_train_data = merged_train_data.rename(columns={\"Value\": \"Happiness Measurement\", \"2018\": \"Income Measurement\"})\n",
        "merged_train_data = pd.DataFrame(merged_train_data, columns=['Country','Happiness Measurement', 'Income Measurement'])\n",
        "\n",
        "\n",
        "import matplotlib.pyplot as plt\n",
        "import sklearn.linear_model\n",
        "\n",
        "\n",
        "#define features (X) and target variable (Y)\n",
        "X = np.c_[merged_train_data[\"Income Measurement\"]]\n",
        "Y = np.c_[merged_train_data[\"Happiness Measurement\"]]\n",
        "\n",
        "#specify the number of splits for cross-validation\n",
        "num_splits = 5\n",
        "\n",
        "#initialize a linear regression model\n",
        "model = sklearn.linear_model.LinearRegression()\n",
        "\n",
        "#lists to store cross-validation scores\n",
        "cv_scores = []\n",
        "\n",
        "#perform cross-validation\n",
        "for _ in range(num_splits):\n",
        "    #split the data into training and testing sets\n",
        "    X_train, X_test, Y_train, Y_test = train_test_split(X, Y, test_size=0.2, random_state=None)  # You can set a specific random state for reproducibility\n",
        "\n",
        "    #fit the model on the training data\n",
        "    model.fit(X_train, Y_train)\n",
        "\n",
        "    #predict on the test set\n",
        "    Y_pred = model.predict(X_test)\n",
        "\n",
        "    #calculate the Mean Squared Error (MSE)\n",
        "    mse = mean_squared_error(Y_test, Y_pred)\n",
        "\n",
        "    #append the MSE to the list\n",
        "    cv_scores.append(mse)\n",
        "\n",
        "#display cross-validation MSE scores\n",
        "print(\"Cross-Validation MSE Scores:\", cv_scores)\n",
        "print(\"Mean MSE Score:\", np.mean(cv_scores))\n",
        "\n"
      ]
    },
    {
      "cell_type": "code",
      "source": [],
      "metadata": {
        "id": "mqMWLb3ZqKuG"
      },
      "execution_count": null,
      "outputs": []
    }
  ]
}